{
 "cells": [
  {
   "cell_type": "code",
   "execution_count": 10,
   "metadata": {
    "collapsed": true
   },
   "outputs": [
    {
     "data": {
      "text/plain": "<IPython.core.display.HTML object>",
      "text/html": "<style>.container { width:100% !important; }</style>"
     },
     "metadata": {},
     "output_type": "display_data"
    },
    {
     "data": {
      "text/plain": "<IPython.core.display.HTML object>",
      "text/html": "<style>table.dataframe {font-size:60%;line-height:100%; padding:0px; margin:0px;}</style>"
     },
     "metadata": {},
     "output_type": "display_data"
    },
    {
     "data": {
      "text/plain": "<IPython.core.display.HTML object>",
      "text/html": "<style>table.dataframe td {padding:3px; margin:0px;}</style>"
     },
     "metadata": {},
     "output_type": "display_data"
    },
    {
     "data": {
      "text/plain": "<IPython.core.display.HTML object>",
      "text/html": "<style>table.dataframe tr {padding:3px; margin:0px;}</style>"
     },
     "metadata": {},
     "output_type": "display_data"
    },
    {
     "data": {
      "text/plain": "<IPython.core.display.HTML object>",
      "text/html": "<style>table.dataframe th {padding:3px; margin:0px;}</style>"
     },
     "metadata": {},
     "output_type": "display_data"
    },
    {
     "name": "stdout",
     "output_type": "stream",
     "text": [
      "The autoreload extension is already loaded. To reload it, use:\n",
      "  %reload_ext autoreload\n"
     ]
    }
   ],
   "source": [
    "from __future__ import print_function\n",
    "from matplotlib import pyplot\n",
    "pyplot.style.use('dark_background')\n",
    "from IPython.display import display, HTML\n",
    "display(HTML(\"<style>.container { width:100% !important; }</style>\"))\n",
    "display(HTML(\"<style>table.dataframe {font-size:60%;line-height:100%; padding:0px; margin:0px;}</style>\"))\n",
    "display(HTML(\"<style>table.dataframe td {padding:3px; margin:0px;}</style>\"))\n",
    "display(HTML(\"<style>table.dataframe tr {padding:3px; margin:0px;}</style>\"))\n",
    "display(HTML(\"<style>table.dataframe th {padding:3px; margin:0px;}</style>\"))\n",
    "import yaml\n",
    "#\n",
    "from mimic3benchmark.mimic3csv import *\n",
    "from mimic3benchmark.preprocessing import add_hcup_ccs_2015_groups, make_phenotype_label_matrix\n",
    "from mimic3benchmark.util import *\n",
    "from pandas.testing import assert_frame_equal\n",
    "from OF_util import read_csv_file, write_csv_file, args, peek, read_and_cut\n",
    "\n",
    "%load_ext autoreload\n",
    "%autoreload 2"
   ]
  },
  {
   "cell_type": "code",
   "execution_count": 2,
   "outputs": [
    {
     "name": "stdout",
     "output_type": "stream",
     "text": [
      "True\n"
     ]
    },
    {
     "data": {
      "text/plain": "        SUBJECT_ID GENDER                  DOB  DOD DOD_HOSP DOD_SSN  \\\nROW_ID                                                                 \n30618        32612      M  2077-06-25 00:00:00  NaN      NaN     NaN   \n28466        30279      M  2163-06-12 00:00:00  NaN      NaN     NaN   \n3275          3464      M  2200-09-29 00:00:00  NaN      NaN     NaN   \n21164        22423      M  2127-08-08 00:00:00  NaN      NaN     NaN   \n6978          7375      M  2042-08-01 00:00:00  NaN      NaN     NaN   \n\n        EXPIRE_FLAG  \nROW_ID               \n30618             0  \n28466             0  \n3275              0  \n21164             0  \n6978              0  ",
      "text/html": "<div>\n<style scoped>\n    .dataframe tbody tr th:only-of-type {\n        vertical-align: middle;\n    }\n\n    .dataframe tbody tr th {\n        vertical-align: top;\n    }\n\n    .dataframe thead th {\n        text-align: right;\n    }\n</style>\n<table border=\"1\" class=\"dataframe\">\n  <thead>\n    <tr style=\"text-align: right;\">\n      <th></th>\n      <th>SUBJECT_ID</th>\n      <th>GENDER</th>\n      <th>DOB</th>\n      <th>DOD</th>\n      <th>DOD_HOSP</th>\n      <th>DOD_SSN</th>\n      <th>EXPIRE_FLAG</th>\n    </tr>\n    <tr>\n      <th>ROW_ID</th>\n      <th></th>\n      <th></th>\n      <th></th>\n      <th></th>\n      <th></th>\n      <th></th>\n      <th></th>\n    </tr>\n  </thead>\n  <tbody>\n    <tr>\n      <th>30618</th>\n      <td>32612</td>\n      <td>M</td>\n      <td>2077-06-25 00:00:00</td>\n      <td>NaN</td>\n      <td>NaN</td>\n      <td>NaN</td>\n      <td>0</td>\n    </tr>\n    <tr>\n      <th>28466</th>\n      <td>30279</td>\n      <td>M</td>\n      <td>2163-06-12 00:00:00</td>\n      <td>NaN</td>\n      <td>NaN</td>\n      <td>NaN</td>\n      <td>0</td>\n    </tr>\n    <tr>\n      <th>3275</th>\n      <td>3464</td>\n      <td>M</td>\n      <td>2200-09-29 00:00:00</td>\n      <td>NaN</td>\n      <td>NaN</td>\n      <td>NaN</td>\n      <td>0</td>\n    </tr>\n    <tr>\n      <th>21164</th>\n      <td>22423</td>\n      <td>M</td>\n      <td>2127-08-08 00:00:00</td>\n      <td>NaN</td>\n      <td>NaN</td>\n      <td>NaN</td>\n      <td>0</td>\n    </tr>\n    <tr>\n      <th>6978</th>\n      <td>7375</td>\n      <td>M</td>\n      <td>2042-08-01 00:00:00</td>\n      <td>NaN</td>\n      <td>NaN</td>\n      <td>NaN</td>\n      <td>0</td>\n    </tr>\n  </tbody>\n</table>\n</div>"
     },
     "metadata": {},
     "output_type": "display_data"
    }
   ],
   "source": [
    "num_samples = 1000\n",
    "patients = read_csv_file('PATIENTS.csv')\n",
    "# display(pats)\n",
    "# check if subject id is unique:\n",
    "print (patients.SUBJECT_ID.is_unique)\n",
    "\n",
    "patients_cut = patients.sample(n=num_samples)\n",
    "# display(patients_cut.head())\n",
    "write_csv_file(patients_cut, 'PATIENTS.csv')\n",
    "# confirm written file will be loaded same\n",
    "patients_cut_read = read_csv_file('PATIENTS.csv', root=args.output_path)\n",
    "assert_frame_equal(patients_cut, patients_cut_read, check_dtype=True)\n",
    "display(patients_cut_read.head())"
   ],
   "metadata": {
    "collapsed": false,
    "pycharm": {
     "name": "#%%\n"
    }
   }
  },
  {
   "cell_type": "code",
   "execution_count": 3,
   "outputs": [
    {
     "data": {
      "text/plain": "Index(['ROW_ID', 'SUBJECT_ID', 'HADM_ID', 'ICUSTAY_ID', 'DBSOURCE',\n       'FIRST_CAREUNIT', 'LAST_CAREUNIT', 'FIRST_WARDID', 'LAST_WARDID',\n       'INTIME', 'OUTTIME', 'LOS'],\n      dtype='object')"
     },
     "metadata": {},
     "output_type": "display_data"
    },
    {
     "data": {
      "text/plain": "(1302, 11)"
     },
     "execution_count": 3,
     "metadata": {},
     "output_type": "execute_result"
    }
   ],
   "source": [
    "peek('ICUSTAYS.csv')\n",
    "stays_cut = read_and_cut('ICUSTAYS.csv', 'SUBJECT_ID', patients_cut_read.SUBJECT_ID)\n",
    "write_csv_file(stays_cut, 'ICUSTAYS.csv')\n",
    "stays_cut.shape"
   ],
   "metadata": {
    "collapsed": false,
    "pycharm": {
     "name": "#%%\n"
    }
   }
  },
  {
   "cell_type": "code",
   "execution_count": 4,
   "outputs": [
    {
     "data": {
      "text/plain": "Index(['ROW_ID', 'SUBJECT_ID', 'HADM_ID', 'ADMITTIME', 'DISCHTIME',\n       'DEATHTIME', 'ADMISSION_TYPE', 'ADMISSION_LOCATION',\n       'DISCHARGE_LOCATION', 'INSURANCE', 'LANGUAGE', 'RELIGION',\n       'MARITAL_STATUS', 'ETHNICITY', 'EDREGTIME', 'EDOUTTIME', 'DIAGNOSIS',\n       'HOSPITAL_EXPIRE_FLAG', 'HAS_CHARTEVENTS_DATA'],\n      dtype='object')"
     },
     "metadata": {},
     "output_type": "display_data"
    },
    {
     "data": {
      "text/plain": "(1268, 18)"
     },
     "execution_count": 4,
     "metadata": {},
     "output_type": "execute_result"
    }
   ],
   "source": [
    "peek('ADMISSIONS.csv')\n",
    "adm_cut = read_and_cut('ADMISSIONS.csv', 'SUBJECT_ID', patients_cut_read.SUBJECT_ID)\n",
    "write_csv_file(adm_cut, 'ADMISSIONS.csv')\n",
    "adm_cut.shape\n"
   ],
   "metadata": {
    "collapsed": false,
    "pycharm": {
     "name": "#%%\n"
    }
   }
  },
  {
   "cell_type": "code",
   "execution_count": 5,
   "outputs": [
    {
     "data": {
      "text/plain": "Index(['ROW_ID', 'SUBJECT_ID', 'HADM_ID', 'ICUSTAY_ID', 'DBSOURCE',\n       'EVENTTYPE', 'PREV_CAREUNIT', 'CURR_CAREUNIT', 'PREV_WARDID',\n       'CURR_WARDID', 'INTIME', 'OUTTIME', 'LOS'],\n      dtype='object')"
     },
     "metadata": {},
     "output_type": "display_data"
    },
    {
     "data": {
      "text/plain": "(5520, 12)"
     },
     "execution_count": 5,
     "metadata": {},
     "output_type": "execute_result"
    }
   ],
   "source": [
    "peek('TRANSFERS.csv')\n",
    "transfer_cut = read_and_cut('TRANSFERS.csv', 'SUBJECT_ID', patients_cut_read.SUBJECT_ID)\n",
    "write_csv_file(transfer_cut, 'TRANSFERS.csv')\n",
    "transfer_cut.shape"
   ],
   "metadata": {
    "collapsed": false,
    "pycharm": {
     "name": "#%%\n"
    }
   }
  },
  {
   "cell_type": "code",
   "execution_count": 6,
   "outputs": [
    {
     "data": {
      "text/plain": "Index(['ROW_ID', 'SUBJECT_ID', 'HADM_ID', 'SEQ_NUM', 'ICD9_CODE'], dtype='object')"
     },
     "metadata": {},
     "output_type": "display_data"
    },
    {
     "data": {
      "text/plain": "(13989, 4)"
     },
     "execution_count": 6,
     "metadata": {},
     "output_type": "execute_result"
    }
   ],
   "source": [
    "peek('DIAGNOSES_ICD.csv')\n",
    "diagnoses_cut = read_and_cut('DIAGNOSES_ICD.csv', 'SUBJECT_ID', patients_cut_read.SUBJECT_ID)\n",
    "write_csv_file(diagnoses_cut, 'DIAGNOSES_ICD.csv')\n",
    "diagnoses_cut.shape"
   ],
   "metadata": {
    "collapsed": false,
    "pycharm": {
     "name": "#%%\n"
    }
   }
  },
  {
   "cell_type": "code",
   "execution_count": 7,
   "outputs": [
    {
     "data": {
      "text/plain": "Index(['ROW_ID', 'SUBJECT_ID', 'HADM_ID', 'SEQ_NUM', 'ICD9_CODE'], dtype='object')"
     },
     "metadata": {},
     "output_type": "display_data"
    },
    {
     "data": {
      "text/plain": "(5113, 4)"
     },
     "execution_count": 7,
     "metadata": {},
     "output_type": "execute_result"
    }
   ],
   "source": [
    "peek('PROCEDURES_ICD.csv')\n",
    "procedures_cut = read_and_cut('PROCEDURES_ICD.csv', 'SUBJECT_ID', patients_cut_read.SUBJECT_ID)\n",
    "write_csv_file(procedures_cut, 'PROCEDURES_ICD.csv')\n",
    "procedures_cut.shape\n"
   ],
   "metadata": {
    "collapsed": false,
    "pycharm": {
     "name": "#%%\n"
    }
   }
  },
  {
   "cell_type": "code",
   "execution_count": 8,
   "outputs": [
    {
     "data": {
      "text/plain": "Index(['ROW_ID', 'SUBJECT_ID', 'HADM_ID', 'ICUSTAY_ID', 'STARTDATE', 'ENDDATE',\n       'DRUG_TYPE', 'DRUG', 'DRUG_NAME_POE', 'DRUG_NAME_GENERIC',\n       'FORMULARY_DRUG_CD', 'GSN', 'NDC', 'PROD_STRENGTH', 'DOSE_VAL_RX',\n       'DOSE_UNIT_RX', 'FORM_VAL_DISP', 'FORM_UNIT_DISP', 'ROUTE'],\n      dtype='object')"
     },
     "metadata": {},
     "output_type": "display_data"
    },
    {
     "name": "stderr",
     "output_type": "stream",
     "text": [
      "/usr/local/lib/python3.7/site-packages/IPython/core/interactiveshell.py:3319: DtypeWarning: Columns (11) have mixed types. Specify dtype option on import or set low_memory=False.\n",
      "  exec(code_obj, self.user_global_ns, self.user_ns)\n"
     ]
    },
    {
     "data": {
      "text/plain": "(88031, 18)"
     },
     "execution_count": 8,
     "metadata": {},
     "output_type": "execute_result"
    }
   ],
   "source": [
    "peek('PRESCRIPTIONS.csv')\n",
    "prescriptions_cut = read_and_cut('PRESCRIPTIONS.csv', 'SUBJECT_ID', patients_cut_read.SUBJECT_ID)\n",
    "write_csv_file(prescriptions_cut, 'PRESCRIPTIONS.csv')\n",
    "prescriptions_cut.shape"
   ],
   "metadata": {
    "collapsed": false,
    "pycharm": {
     "name": "#%%\n"
    }
   }
  },
  {
   "cell_type": "code",
   "execution_count": 9,
   "outputs": [
    {
     "data": {
      "text/plain": "Index(['ROW_ID', 'SUBJECT_ID', 'HADM_ID', 'ICUSTAY_ID', 'ITEMID', 'CHARTTIME',\n       'STORETIME', 'CGID', 'VALUE', 'VALUENUM', 'VALUEUOM', 'WARNING',\n       'ERROR', 'RESULTSTATUS', 'STOPPED'],\n      dtype='object')"
     },
     "metadata": {},
     "output_type": "display_data"
    },
    {
     "name": "stderr",
     "output_type": "stream",
     "text": [
      "/usr/local/lib/python3.7/site-packages/IPython/core/interactiveshell.py:3319: DtypeWarning: Columns (13) have mixed types. Specify dtype option on import or set low_memory=False.\n",
      "  exec(code_obj, self.user_global_ns, self.user_ns)\n"
     ]
    },
    {
     "data": {
      "text/plain": "(7312593, 14)"
     },
     "execution_count": 9,
     "metadata": {},
     "output_type": "execute_result"
    }
   ],
   "source": [
    "peek('CHARTEVENTS.csv')\n",
    "chart_events_cut = read_and_cut('CHARTEVENTS.csv', 'SUBJECT_ID', patients_cut_read.SUBJECT_ID)\n",
    "write_csv_file(chart_events_cut, 'CHARTEVENTS.csv')\n",
    "chart_events_cut.shape"
   ],
   "metadata": {
    "collapsed": false,
    "pycharm": {
     "name": "#%%\n"
    }
   }
  },
  {
   "cell_type": "code",
   "execution_count": 9,
   "outputs": [],
   "source": [],
   "metadata": {
    "collapsed": false,
    "pycharm": {
     "name": "#%%\n"
    }
   }
  }
 ],
 "metadata": {
  "kernelspec": {
   "display_name": "Python 3",
   "language": "python",
   "name": "python3"
  },
  "language_info": {
   "codemirror_mode": {
    "name": "ipython",
    "version": 2
   },
   "file_extension": ".py",
   "mimetype": "text/x-python",
   "name": "python",
   "nbconvert_exporter": "python",
   "pygments_lexer": "ipython2",
   "version": "2.7.6"
  }
 },
 "nbformat": 4,
 "nbformat_minor": 0
}