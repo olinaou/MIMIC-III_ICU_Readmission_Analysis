{
 "cells": [
  {
   "cell_type": "code",
   "execution_count": 17,
   "metadata": {
    "collapsed": true
   },
   "outputs": [
    {
     "data": {
      "text/plain": "<IPython.core.display.HTML object>",
      "text/html": "<style>.container { width:100% !important; }</style>"
     },
     "metadata": {},
     "output_type": "display_data"
    },
    {
     "data": {
      "text/plain": "<IPython.core.display.HTML object>",
      "text/html": "<style>table.dataframe {font-size:60%;line-height:100%; padding:0px; margin:0px;}</style>"
     },
     "metadata": {},
     "output_type": "display_data"
    },
    {
     "data": {
      "text/plain": "<IPython.core.display.HTML object>",
      "text/html": "<style>table.dataframe td {padding:3px; margin:0px;}</style>"
     },
     "metadata": {},
     "output_type": "display_data"
    },
    {
     "data": {
      "text/plain": "<IPython.core.display.HTML object>",
      "text/html": "<style>table.dataframe tr {padding:3px; margin:0px;}</style>"
     },
     "metadata": {},
     "output_type": "display_data"
    },
    {
     "data": {
      "text/plain": "<IPython.core.display.HTML object>",
      "text/html": "<style>table.dataframe th {padding:3px; margin:0px;}</style>"
     },
     "metadata": {},
     "output_type": "display_data"
    },
    {
     "name": "stdout",
     "output_type": "stream",
     "text": [
      "The autoreload extension is already loaded. To reload it, use:\n",
      "  %reload_ext autoreload\n"
     ]
    }
   ],
   "source": [
    "from __future__ import print_function\n",
    "from matplotlib import pyplot\n",
    "pyplot.style.use('dark_background')\n",
    "from IPython.display import display, HTML\n",
    "display(HTML(\"<style>.container { width:100% !important; }</style>\"))\n",
    "display(HTML(\"<style>table.dataframe {font-size:60%;line-height:100%; padding:0px; margin:0px;}</style>\"))\n",
    "display(HTML(\"<style>table.dataframe td {padding:3px; margin:0px;}</style>\"))\n",
    "display(HTML(\"<style>table.dataframe tr {padding:3px; margin:0px;}</style>\"))\n",
    "display(HTML(\"<style>table.dataframe th {padding:3px; margin:0px;}</style>\"))\n",
    "import yaml\n",
    "#\n",
    "from mimic3benchmark.mimic3csv import *\n",
    "from mimic3benchmark.preprocessing import add_hcup_ccs_2015_groups, make_phenotype_label_matrix\n",
    "from mimic3benchmark.util import *\n",
    "from pandas.testing import assert_frame_equal\n",
    "from OF_util import read_csv_file, write_csv_file, args, peek, read_and_cut, read_and_cut_multi_index\n",
    "\n",
    "%load_ext autoreload\n",
    "%autoreload 2"
   ]
  },
  {
   "cell_type": "code",
   "execution_count": 5,
   "outputs": [
    {
     "data": {
      "text/plain": "       SUBJECT_ID  HADM_ID  ICUSTAY_ID      LOS    Hos_LOS  Num_Prev_Hos_Adm  \\\n315            36   182104      280987   1.1096   8.281250                 0   \n91             68   108329      272667   6.3983  14.547917                 2   \n98             80   115385      256068   1.1901   4.986806                 0   \n99             81   175016      222874   1.5137   1.756944                 0   \n117           103   130744      212246   3.0237   7.734722                 0   \n...           ...      ...         ...      ...        ...               ...   \n47883       99836   101018      200347  16.1103  56.879861                 1   \n47884       99836   101018      240303  19.8529  56.879861                 2   \n47900       99883   198523      293088   1.2756   6.600000                 1   \n47901       99893   128349      208873   2.1240   6.679861                 0   \n48418       99995   137810      229633   2.1615   3.218750                 0   \n\n       positive  negative  \n315       False      True  \n91         True     False  \n98        False      True  \n99         True     False  \n117        True     False  \n...         ...       ...  \n47883      True     False  \n47884      True     False  \n47900     False      True  \n47901     False      True  \n48418     False      True  \n\n[3538 rows x 8 columns]",
      "text/html": "<div>\n<style scoped>\n    .dataframe tbody tr th:only-of-type {\n        vertical-align: middle;\n    }\n\n    .dataframe tbody tr th {\n        vertical-align: top;\n    }\n\n    .dataframe thead th {\n        text-align: right;\n    }\n</style>\n<table border=\"1\" class=\"dataframe\">\n  <thead>\n    <tr style=\"text-align: right;\">\n      <th></th>\n      <th>SUBJECT_ID</th>\n      <th>HADM_ID</th>\n      <th>ICUSTAY_ID</th>\n      <th>LOS</th>\n      <th>Hos_LOS</th>\n      <th>Num_Prev_Hos_Adm</th>\n      <th>positive</th>\n      <th>negative</th>\n    </tr>\n  </thead>\n  <tbody>\n    <tr>\n      <th>315</th>\n      <td>36</td>\n      <td>182104</td>\n      <td>280987</td>\n      <td>1.1096</td>\n      <td>8.281250</td>\n      <td>0</td>\n      <td>False</td>\n      <td>True</td>\n    </tr>\n    <tr>\n      <th>91</th>\n      <td>68</td>\n      <td>108329</td>\n      <td>272667</td>\n      <td>6.3983</td>\n      <td>14.547917</td>\n      <td>2</td>\n      <td>True</td>\n      <td>False</td>\n    </tr>\n    <tr>\n      <th>98</th>\n      <td>80</td>\n      <td>115385</td>\n      <td>256068</td>\n      <td>1.1901</td>\n      <td>4.986806</td>\n      <td>0</td>\n      <td>False</td>\n      <td>True</td>\n    </tr>\n    <tr>\n      <th>99</th>\n      <td>81</td>\n      <td>175016</td>\n      <td>222874</td>\n      <td>1.5137</td>\n      <td>1.756944</td>\n      <td>0</td>\n      <td>True</td>\n      <td>False</td>\n    </tr>\n    <tr>\n      <th>117</th>\n      <td>103</td>\n      <td>130744</td>\n      <td>212246</td>\n      <td>3.0237</td>\n      <td>7.734722</td>\n      <td>0</td>\n      <td>True</td>\n      <td>False</td>\n    </tr>\n    <tr>\n      <th>...</th>\n      <td>...</td>\n      <td>...</td>\n      <td>...</td>\n      <td>...</td>\n      <td>...</td>\n      <td>...</td>\n      <td>...</td>\n      <td>...</td>\n    </tr>\n    <tr>\n      <th>47883</th>\n      <td>99836</td>\n      <td>101018</td>\n      <td>200347</td>\n      <td>16.1103</td>\n      <td>56.879861</td>\n      <td>1</td>\n      <td>True</td>\n      <td>False</td>\n    </tr>\n    <tr>\n      <th>47884</th>\n      <td>99836</td>\n      <td>101018</td>\n      <td>240303</td>\n      <td>19.8529</td>\n      <td>56.879861</td>\n      <td>2</td>\n      <td>True</td>\n      <td>False</td>\n    </tr>\n    <tr>\n      <th>47900</th>\n      <td>99883</td>\n      <td>198523</td>\n      <td>293088</td>\n      <td>1.2756</td>\n      <td>6.600000</td>\n      <td>1</td>\n      <td>False</td>\n      <td>True</td>\n    </tr>\n    <tr>\n      <th>47901</th>\n      <td>99893</td>\n      <td>128349</td>\n      <td>208873</td>\n      <td>2.1240</td>\n      <td>6.679861</td>\n      <td>0</td>\n      <td>False</td>\n      <td>True</td>\n    </tr>\n    <tr>\n      <th>48418</th>\n      <td>99995</td>\n      <td>137810</td>\n      <td>229633</td>\n      <td>2.1615</td>\n      <td>3.218750</td>\n      <td>0</td>\n      <td>False</td>\n      <td>True</td>\n    </tr>\n  </tbody>\n</table>\n<p>3538 rows × 8 columns</p>\n</div>"
     },
     "metadata": {},
     "output_type": "display_data"
    },
    {
     "name": "stdout",
     "output_type": "stream",
     "text": [
      "True\n"
     ]
    },
    {
     "data": {
      "text/plain": "     SUBJECT_ID  HADM_ID  ICUSTAY_ID     LOS   Hos_LOS  Num_Prev_Hos_Adm  \\\n117         103   130744      212246  3.0237  7.734722                 0   \n\n     positive  negative  \n117      True     False  ",
      "text/html": "<div>\n<style scoped>\n    .dataframe tbody tr th:only-of-type {\n        vertical-align: middle;\n    }\n\n    .dataframe tbody tr th {\n        vertical-align: top;\n    }\n\n    .dataframe thead th {\n        text-align: right;\n    }\n</style>\n<table border=\"1\" class=\"dataframe\">\n  <thead>\n    <tr style=\"text-align: right;\">\n      <th></th>\n      <th>SUBJECT_ID</th>\n      <th>HADM_ID</th>\n      <th>ICUSTAY_ID</th>\n      <th>LOS</th>\n      <th>Hos_LOS</th>\n      <th>Num_Prev_Hos_Adm</th>\n      <th>positive</th>\n      <th>negative</th>\n    </tr>\n  </thead>\n  <tbody>\n    <tr>\n      <th>117</th>\n      <td>103</td>\n      <td>130744</td>\n      <td>212246</td>\n      <td>3.0237</td>\n      <td>7.734722</td>\n      <td>0</td>\n      <td>True</td>\n      <td>False</td>\n    </tr>\n  </tbody>\n</table>\n</div>"
     },
     "execution_count": 5,
     "metadata": {},
     "output_type": "execute_result"
    }
   ],
   "source": [
    "stays_sampled = read_csv_file('stays_all_drop_sampled.csv',root='./')\n",
    "display(stays_sampled.sort_values('SUBJECT_ID'))\n",
    "print(stays_sampled.ICUSTAY_ID.is_unique)\n",
    "stays_sampled[stays_sampled.ICUSTAY_ID==212246]"
   ],
   "metadata": {
    "collapsed": false,
    "pycharm": {
     "name": "#%%\n"
    }
   }
  },
  {
   "cell_type": "code",
   "execution_count": 6,
   "outputs": [
    {
     "name": "stdout",
     "output_type": "stream",
     "text": [
      "True\n"
     ]
    },
    {
     "data": {
      "text/plain": "        SUBJECT_ID GENDER                  DOB                  DOD  \\\nROW_ID                                                                \n32              36      M  2061-08-17 00:00:00                  NaN   \n61              68      F  2132-02-29 00:00:00  2174-02-11 00:00:00   \n72              80      M  2104-12-13 00:00:00                  NaN   \n73              81      M  2106-12-20 00:00:00  2192-01-12 00:00:00   \n94             103      F  2084-04-14 00:00:00  2144-09-01 00:00:00   \n...            ...    ...                  ...                  ...   \n46471        99822      M  2136-03-17 00:00:00  2197-07-08 00:00:00   \n46475        99836      F  2064-04-13 00:00:00  2116-07-23 00:00:00   \n46489        99883      M  2058-02-04 00:00:00                  NaN   \n46490        99893      M  2104-09-12 00:00:00  2193-12-30 00:00:00   \n46519        99995      F  2058-05-29 00:00:00  2147-09-29 00:00:00   \n\n                   DOD_HOSP              DOD_SSN  EXPIRE_FLAG  \nROW_ID                                                         \n32                      NaN                  NaN            0  \n61                      NaN  2174-02-11 00:00:00            1  \n72                      NaN                  NaN            0  \n73      2192-01-12 00:00:00  2192-01-12 00:00:00            1  \n94      2144-09-01 00:00:00  2144-09-01 00:00:00            1  \n...                     ...                  ...          ...  \n46471   2197-07-08 00:00:00  2197-07-08 00:00:00            1  \n46475                   NaN  2116-07-23 00:00:00            1  \n46489                   NaN                  NaN            0  \n46490                   NaN  2193-12-30 00:00:00            1  \n46519                   NaN  2147-09-29 00:00:00            1  \n\n[3257 rows x 7 columns]",
      "text/html": "<div>\n<style scoped>\n    .dataframe tbody tr th:only-of-type {\n        vertical-align: middle;\n    }\n\n    .dataframe tbody tr th {\n        vertical-align: top;\n    }\n\n    .dataframe thead th {\n        text-align: right;\n    }\n</style>\n<table border=\"1\" class=\"dataframe\">\n  <thead>\n    <tr style=\"text-align: right;\">\n      <th></th>\n      <th>SUBJECT_ID</th>\n      <th>GENDER</th>\n      <th>DOB</th>\n      <th>DOD</th>\n      <th>DOD_HOSP</th>\n      <th>DOD_SSN</th>\n      <th>EXPIRE_FLAG</th>\n    </tr>\n    <tr>\n      <th>ROW_ID</th>\n      <th></th>\n      <th></th>\n      <th></th>\n      <th></th>\n      <th></th>\n      <th></th>\n      <th></th>\n    </tr>\n  </thead>\n  <tbody>\n    <tr>\n      <th>32</th>\n      <td>36</td>\n      <td>M</td>\n      <td>2061-08-17 00:00:00</td>\n      <td>NaN</td>\n      <td>NaN</td>\n      <td>NaN</td>\n      <td>0</td>\n    </tr>\n    <tr>\n      <th>61</th>\n      <td>68</td>\n      <td>F</td>\n      <td>2132-02-29 00:00:00</td>\n      <td>2174-02-11 00:00:00</td>\n      <td>NaN</td>\n      <td>2174-02-11 00:00:00</td>\n      <td>1</td>\n    </tr>\n    <tr>\n      <th>72</th>\n      <td>80</td>\n      <td>M</td>\n      <td>2104-12-13 00:00:00</td>\n      <td>NaN</td>\n      <td>NaN</td>\n      <td>NaN</td>\n      <td>0</td>\n    </tr>\n    <tr>\n      <th>73</th>\n      <td>81</td>\n      <td>M</td>\n      <td>2106-12-20 00:00:00</td>\n      <td>2192-01-12 00:00:00</td>\n      <td>2192-01-12 00:00:00</td>\n      <td>2192-01-12 00:00:00</td>\n      <td>1</td>\n    </tr>\n    <tr>\n      <th>94</th>\n      <td>103</td>\n      <td>F</td>\n      <td>2084-04-14 00:00:00</td>\n      <td>2144-09-01 00:00:00</td>\n      <td>2144-09-01 00:00:00</td>\n      <td>2144-09-01 00:00:00</td>\n      <td>1</td>\n    </tr>\n    <tr>\n      <th>...</th>\n      <td>...</td>\n      <td>...</td>\n      <td>...</td>\n      <td>...</td>\n      <td>...</td>\n      <td>...</td>\n      <td>...</td>\n    </tr>\n    <tr>\n      <th>46471</th>\n      <td>99822</td>\n      <td>M</td>\n      <td>2136-03-17 00:00:00</td>\n      <td>2197-07-08 00:00:00</td>\n      <td>2197-07-08 00:00:00</td>\n      <td>2197-07-08 00:00:00</td>\n      <td>1</td>\n    </tr>\n    <tr>\n      <th>46475</th>\n      <td>99836</td>\n      <td>F</td>\n      <td>2064-04-13 00:00:00</td>\n      <td>2116-07-23 00:00:00</td>\n      <td>NaN</td>\n      <td>2116-07-23 00:00:00</td>\n      <td>1</td>\n    </tr>\n    <tr>\n      <th>46489</th>\n      <td>99883</td>\n      <td>M</td>\n      <td>2058-02-04 00:00:00</td>\n      <td>NaN</td>\n      <td>NaN</td>\n      <td>NaN</td>\n      <td>0</td>\n    </tr>\n    <tr>\n      <th>46490</th>\n      <td>99893</td>\n      <td>M</td>\n      <td>2104-09-12 00:00:00</td>\n      <td>2193-12-30 00:00:00</td>\n      <td>NaN</td>\n      <td>2193-12-30 00:00:00</td>\n      <td>1</td>\n    </tr>\n    <tr>\n      <th>46519</th>\n      <td>99995</td>\n      <td>F</td>\n      <td>2058-05-29 00:00:00</td>\n      <td>2147-09-29 00:00:00</td>\n      <td>NaN</td>\n      <td>2147-09-29 00:00:00</td>\n      <td>1</td>\n    </tr>\n  </tbody>\n</table>\n<p>3257 rows × 7 columns</p>\n</div>"
     },
     "metadata": {},
     "output_type": "display_data"
    }
   ],
   "source": [
    "num_samples = 1000\n",
    "patients_cut = read_and_cut('PATIENTS.csv',col_to_cut='SUBJECT_ID', col_values=stays_sampled.SUBJECT_ID)\n",
    "# check if subject id is unique:\n",
    "print (patients_cut.SUBJECT_ID.is_unique)\n",
    "\n",
    "write_csv_file(patients_cut, 'PATIENTS.csv')\n",
    "# confirm written file will be loaded same\n",
    "display(patients_cut.sort_values('SUBJECT_ID'))"
   ],
   "metadata": {
    "collapsed": false,
    "pycharm": {
     "name": "#%%\n"
    }
   }
  },
  {
   "cell_type": "code",
   "execution_count": 8,
   "outputs": [
    {
     "data": {
      "text/plain": "Index(['ROW_ID', 'SUBJECT_ID', 'HADM_ID', 'ICUSTAY_ID', 'DBSOURCE',\n       'FIRST_CAREUNIT', 'LAST_CAREUNIT', 'FIRST_WARDID', 'LAST_WARDID',\n       'INTIME', 'OUTTIME', 'LOS'],\n      dtype='object')"
     },
     "metadata": {},
     "output_type": "display_data"
    },
    {
     "data": {
      "text/plain": "(3538, 11)"
     },
     "execution_count": 8,
     "metadata": {},
     "output_type": "execute_result"
    }
   ],
   "source": [
    "peek('ICUSTAYS.csv')\n",
    "stays_cut = read_and_cut('ICUSTAYS.csv', 'ICUSTAY_ID', stays_sampled.ICUSTAY_ID)\n",
    "write_csv_file(stays_cut, 'ICUSTAYS.csv')\n",
    "print (stays_cut.shape)"
   ],
   "metadata": {
    "collapsed": false,
    "pycharm": {
     "name": "#%%\n"
    }
   }
  },
  {
   "cell_type": "code",
   "execution_count": 10,
   "outputs": [
    {
     "data": {
      "text/plain": "Index(['ROW_ID', 'SUBJECT_ID', 'HADM_ID', 'ADMITTIME', 'DISCHTIME',\n       'DEATHTIME', 'ADMISSION_TYPE', 'ADMISSION_LOCATION',\n       'DISCHARGE_LOCATION', 'INSURANCE', 'LANGUAGE', 'RELIGION',\n       'MARITAL_STATUS', 'ETHNICITY', 'EDREGTIME', 'EDOUTTIME', 'DIAGNOSIS',\n       'HOSPITAL_EXPIRE_FLAG', 'HAS_CHARTEVENTS_DATA'],\n      dtype='object')"
     },
     "metadata": {},
     "output_type": "display_data"
    },
    {
     "data": {
      "text/plain": "(3358, 18)"
     },
     "execution_count": 10,
     "metadata": {},
     "output_type": "execute_result"
    }
   ],
   "source": [
    "peek('ADMISSIONS.csv')\n",
    "adm_cut = read_and_cut('ADMISSIONS.csv', 'HADM_ID', stays_sampled.HADM_ID)\n",
    "write_csv_file(adm_cut, 'ADMISSIONS.csv')\n",
    "print (adm_cut.shape)"
   ],
   "metadata": {
    "collapsed": false,
    "pycharm": {
     "name": "#%%\n"
    }
   }
  },
  {
   "cell_type": "code",
   "execution_count": 24,
   "outputs": [
    {
     "data": {
      "text/plain": "Index(['ROW_ID', 'SUBJECT_ID', 'HADM_ID', 'ICUSTAY_ID', 'DBSOURCE',\n       'EVENTTYPE', 'PREV_CAREUNIT', 'CURR_CAREUNIT', 'PREV_WARDID',\n       'CURR_WARDID', 'INTIME', 'OUTTIME', 'LOS'],\n      dtype='object')"
     },
     "metadata": {},
     "output_type": "display_data"
    },
    {
     "name": "stdout",
     "output_type": "stream",
     "text": [
      "(4636, 12)\n"
     ]
    },
    {
     "data": {
      "text/plain": "      SUBJECT_ID  HADM_ID  ICUSTAY_ID    DBSOURCE EVENTTYPE PREV_CAREUNIT  \\\n0             36   182104    280987.0     carevue  transfer           NaN   \n1             68   108329    272667.0     carevue  transfer           NaN   \n2            109   155726    254406.0  metavision     admit           NaN   \n3            177   143120    255303.0     carevue  transfer           NaN   \n4            181   102631    246694.0     carevue     admit           NaN   \n...          ...      ...         ...         ...       ...           ...   \n1232       94581   132584    275402.0  metavision     admit           NaN   \n1233       94581   132584    275402.0  metavision  transfer          SICU   \n1234       94581   132584    275402.0  metavision  transfer          SICU   \n1235       94597   178775    238794.0  metavision     admit           NaN   \n1236       94597   178775    238794.0  metavision  transfer           NaN   \n\n     CURR_CAREUNIT  PREV_WARDID  CURR_WARDID               INTIME  \\\n0             CSRU         49.0         12.0  2131-05-04 10:29:14   \n1             MICU         45.0         23.0  2174-01-08 13:12:06   \n2             SICU          NaN         57.0  2142-08-13 04:04:27   \n3             MICU          4.0         52.0  2125-12-02 15:49:45   \n4             CSRU          NaN         23.0  2153-10-12 09:52:00   \n...            ...          ...          ...                  ...   \n1232          SICU          NaN         33.0  2119-09-11 04:04:57   \n1233          SICU         33.0         57.0  2119-09-11 04:14:26   \n1234          MICU         57.0         52.0  2119-09-12 17:28:16   \n1235           CCU          NaN          7.0  2169-11-09 01:07:40   \n1236           CCU         32.0          7.0  2169-11-09 01:42:09   \n\n                  OUTTIME     LOS  \n0     2131-05-05 13:07:03   26.63  \n1     2174-01-14 22:45:42  153.56  \n2     2142-08-14 21:55:48   41.86  \n3     2125-12-12 15:01:55  239.20  \n4     2153-10-13 06:29:00   20.62  \n...                   ...     ...  \n1232  2119-09-11 04:14:26    0.16  \n1233  2119-09-12 17:28:16   37.23  \n1234  2119-09-14 21:44:54   52.28  \n1235  2169-11-09 01:41:27    0.56  \n1236  2169-11-13 12:18:03  106.60  \n\n[4636 rows x 12 columns]",
      "text/html": "<div>\n<style scoped>\n    .dataframe tbody tr th:only-of-type {\n        vertical-align: middle;\n    }\n\n    .dataframe tbody tr th {\n        vertical-align: top;\n    }\n\n    .dataframe thead th {\n        text-align: right;\n    }\n</style>\n<table border=\"1\" class=\"dataframe\">\n  <thead>\n    <tr style=\"text-align: right;\">\n      <th></th>\n      <th>SUBJECT_ID</th>\n      <th>HADM_ID</th>\n      <th>ICUSTAY_ID</th>\n      <th>DBSOURCE</th>\n      <th>EVENTTYPE</th>\n      <th>PREV_CAREUNIT</th>\n      <th>CURR_CAREUNIT</th>\n      <th>PREV_WARDID</th>\n      <th>CURR_WARDID</th>\n      <th>INTIME</th>\n      <th>OUTTIME</th>\n      <th>LOS</th>\n    </tr>\n  </thead>\n  <tbody>\n    <tr>\n      <th>0</th>\n      <td>36</td>\n      <td>182104</td>\n      <td>280987.0</td>\n      <td>carevue</td>\n      <td>transfer</td>\n      <td>NaN</td>\n      <td>CSRU</td>\n      <td>49.0</td>\n      <td>12.0</td>\n      <td>2131-05-04 10:29:14</td>\n      <td>2131-05-05 13:07:03</td>\n      <td>26.63</td>\n    </tr>\n    <tr>\n      <th>1</th>\n      <td>68</td>\n      <td>108329</td>\n      <td>272667.0</td>\n      <td>carevue</td>\n      <td>transfer</td>\n      <td>NaN</td>\n      <td>MICU</td>\n      <td>45.0</td>\n      <td>23.0</td>\n      <td>2174-01-08 13:12:06</td>\n      <td>2174-01-14 22:45:42</td>\n      <td>153.56</td>\n    </tr>\n    <tr>\n      <th>2</th>\n      <td>109</td>\n      <td>155726</td>\n      <td>254406.0</td>\n      <td>metavision</td>\n      <td>admit</td>\n      <td>NaN</td>\n      <td>SICU</td>\n      <td>NaN</td>\n      <td>57.0</td>\n      <td>2142-08-13 04:04:27</td>\n      <td>2142-08-14 21:55:48</td>\n      <td>41.86</td>\n    </tr>\n    <tr>\n      <th>3</th>\n      <td>177</td>\n      <td>143120</td>\n      <td>255303.0</td>\n      <td>carevue</td>\n      <td>transfer</td>\n      <td>NaN</td>\n      <td>MICU</td>\n      <td>4.0</td>\n      <td>52.0</td>\n      <td>2125-12-02 15:49:45</td>\n      <td>2125-12-12 15:01:55</td>\n      <td>239.20</td>\n    </tr>\n    <tr>\n      <th>4</th>\n      <td>181</td>\n      <td>102631</td>\n      <td>246694.0</td>\n      <td>carevue</td>\n      <td>admit</td>\n      <td>NaN</td>\n      <td>CSRU</td>\n      <td>NaN</td>\n      <td>23.0</td>\n      <td>2153-10-12 09:52:00</td>\n      <td>2153-10-13 06:29:00</td>\n      <td>20.62</td>\n    </tr>\n    <tr>\n      <th>...</th>\n      <td>...</td>\n      <td>...</td>\n      <td>...</td>\n      <td>...</td>\n      <td>...</td>\n      <td>...</td>\n      <td>...</td>\n      <td>...</td>\n      <td>...</td>\n      <td>...</td>\n      <td>...</td>\n      <td>...</td>\n    </tr>\n    <tr>\n      <th>1232</th>\n      <td>94581</td>\n      <td>132584</td>\n      <td>275402.0</td>\n      <td>metavision</td>\n      <td>admit</td>\n      <td>NaN</td>\n      <td>SICU</td>\n      <td>NaN</td>\n      <td>33.0</td>\n      <td>2119-09-11 04:04:57</td>\n      <td>2119-09-11 04:14:26</td>\n      <td>0.16</td>\n    </tr>\n    <tr>\n      <th>1233</th>\n      <td>94581</td>\n      <td>132584</td>\n      <td>275402.0</td>\n      <td>metavision</td>\n      <td>transfer</td>\n      <td>SICU</td>\n      <td>SICU</td>\n      <td>33.0</td>\n      <td>57.0</td>\n      <td>2119-09-11 04:14:26</td>\n      <td>2119-09-12 17:28:16</td>\n      <td>37.23</td>\n    </tr>\n    <tr>\n      <th>1234</th>\n      <td>94581</td>\n      <td>132584</td>\n      <td>275402.0</td>\n      <td>metavision</td>\n      <td>transfer</td>\n      <td>SICU</td>\n      <td>MICU</td>\n      <td>57.0</td>\n      <td>52.0</td>\n      <td>2119-09-12 17:28:16</td>\n      <td>2119-09-14 21:44:54</td>\n      <td>52.28</td>\n    </tr>\n    <tr>\n      <th>1235</th>\n      <td>94597</td>\n      <td>178775</td>\n      <td>238794.0</td>\n      <td>metavision</td>\n      <td>admit</td>\n      <td>NaN</td>\n      <td>CCU</td>\n      <td>NaN</td>\n      <td>7.0</td>\n      <td>2169-11-09 01:07:40</td>\n      <td>2169-11-09 01:41:27</td>\n      <td>0.56</td>\n    </tr>\n    <tr>\n      <th>1236</th>\n      <td>94597</td>\n      <td>178775</td>\n      <td>238794.0</td>\n      <td>metavision</td>\n      <td>transfer</td>\n      <td>NaN</td>\n      <td>CCU</td>\n      <td>32.0</td>\n      <td>7.0</td>\n      <td>2169-11-09 01:42:09</td>\n      <td>2169-11-13 12:18:03</td>\n      <td>106.60</td>\n    </tr>\n  </tbody>\n</table>\n<p>4636 rows × 12 columns</p>\n</div>"
     },
     "metadata": {},
     "output_type": "display_data"
    }
   ],
   "source": [
    "peek('TRANSFERS.csv')\n",
    "transfer_cut = read_and_cut_multi_index('TRANSFERS.csv', stays_sampled[['SUBJECT_ID','HADM_ID','ICUSTAY_ID']])\n",
    "write_csv_file(transfer_cut, 'TRANSFERS.csv')\n",
    "print (transfer_cut.shape)\n",
    "display(transfer_cut)"
   ],
   "metadata": {
    "collapsed": false,
    "pycharm": {
     "name": "#%%\n"
    }
   }
  },
  {
   "cell_type": "code",
   "execution_count": 26,
   "outputs": [
    {
     "data": {
      "text/plain": "Index(['ROW_ID', 'SUBJECT_ID', 'HADM_ID', 'SEQ_NUM', 'ICD9_CODE'], dtype='object')"
     },
     "metadata": {},
     "output_type": "display_data"
    },
    {
     "data": {
      "text/plain": "      SUBJECT_ID  HADM_ID  SEQ_NUM ICD9_CODE\n0             68   108329      1.0       042\n1             68   108329      2.0       486\n2             68   108329      3.0      4254\n3             68   108329      4.0      2762\n4             68   108329      5.0      5849\n...          ...      ...      ...       ...\n3911       96023   116385      6.0      1628\n3912       96023   116385      7.0      5849\n3913       96023   116385      8.0     73300\n3914       96023   116385      9.0      7904\n3915       96023   116385     10.0     42789\n\n[46467 rows x 4 columns]",
      "text/html": "<div>\n<style scoped>\n    .dataframe tbody tr th:only-of-type {\n        vertical-align: middle;\n    }\n\n    .dataframe tbody tr th {\n        vertical-align: top;\n    }\n\n    .dataframe thead th {\n        text-align: right;\n    }\n</style>\n<table border=\"1\" class=\"dataframe\">\n  <thead>\n    <tr style=\"text-align: right;\">\n      <th></th>\n      <th>SUBJECT_ID</th>\n      <th>HADM_ID</th>\n      <th>SEQ_NUM</th>\n      <th>ICD9_CODE</th>\n    </tr>\n  </thead>\n  <tbody>\n    <tr>\n      <th>0</th>\n      <td>68</td>\n      <td>108329</td>\n      <td>1.0</td>\n      <td>042</td>\n    </tr>\n    <tr>\n      <th>1</th>\n      <td>68</td>\n      <td>108329</td>\n      <td>2.0</td>\n      <td>486</td>\n    </tr>\n    <tr>\n      <th>2</th>\n      <td>68</td>\n      <td>108329</td>\n      <td>3.0</td>\n      <td>4254</td>\n    </tr>\n    <tr>\n      <th>3</th>\n      <td>68</td>\n      <td>108329</td>\n      <td>4.0</td>\n      <td>2762</td>\n    </tr>\n    <tr>\n      <th>4</th>\n      <td>68</td>\n      <td>108329</td>\n      <td>5.0</td>\n      <td>5849</td>\n    </tr>\n    <tr>\n      <th>...</th>\n      <td>...</td>\n      <td>...</td>\n      <td>...</td>\n      <td>...</td>\n    </tr>\n    <tr>\n      <th>3911</th>\n      <td>96023</td>\n      <td>116385</td>\n      <td>6.0</td>\n      <td>1628</td>\n    </tr>\n    <tr>\n      <th>3912</th>\n      <td>96023</td>\n      <td>116385</td>\n      <td>7.0</td>\n      <td>5849</td>\n    </tr>\n    <tr>\n      <th>3913</th>\n      <td>96023</td>\n      <td>116385</td>\n      <td>8.0</td>\n      <td>73300</td>\n    </tr>\n    <tr>\n      <th>3914</th>\n      <td>96023</td>\n      <td>116385</td>\n      <td>9.0</td>\n      <td>7904</td>\n    </tr>\n    <tr>\n      <th>3915</th>\n      <td>96023</td>\n      <td>116385</td>\n      <td>10.0</td>\n      <td>42789</td>\n    </tr>\n  </tbody>\n</table>\n<p>46467 rows × 4 columns</p>\n</div>"
     },
     "metadata": {},
     "output_type": "display_data"
    }
   ],
   "source": [
    "peek('DIAGNOSES_ICD.csv')\n",
    "diagnoses_cut = read_and_cut_multi_index('DIAGNOSES_ICD.csv', stays_sampled[['SUBJECT_ID','HADM_ID']])\n",
    "write_csv_file(diagnoses_cut, 'DIAGNOSES_ICD.csv')\n",
    "print (diagnoses_cut.shape)\n",
    "display(diagnoses_cut)"
   ],
   "metadata": {
    "collapsed": false,
    "pycharm": {
     "name": "#%%\n"
    }
   }
  },
  {
   "cell_type": "code",
   "execution_count": 31,
   "outputs": [
    {
     "data": {
      "text/plain": "Index(['ROW_ID', 'SUBJECT_ID', 'HADM_ID', 'SEQ_NUM', 'ICD9_CODE'], dtype='object')"
     },
     "metadata": {},
     "output_type": "display_data"
    },
    {
     "name": "stdout",
     "output_type": "stream",
     "text": [
      "(17282, 4)\n"
     ]
    },
    {
     "data": {
      "text/plain": "      SUBJECT_ID  HADM_ID  SEQ_NUM  ICD9_CODE\n0            308   166606        1       3129\n1            308   166606        2       9604\n2            308   166606        3       9672\n3            308   166606        4       9390\n4            308   166606        5       9915\n...          ...      ...      ...        ...\n2886       43323   107385        6       3897\n2887       43323   107385        7       3897\n2888       43323   107385        8        370\n2889       41035   102460        1       3228\n2890       41035   102460        2       3201\n\n[17282 rows x 4 columns]",
      "text/html": "<div>\n<style scoped>\n    .dataframe tbody tr th:only-of-type {\n        vertical-align: middle;\n    }\n\n    .dataframe tbody tr th {\n        vertical-align: top;\n    }\n\n    .dataframe thead th {\n        text-align: right;\n    }\n</style>\n<table border=\"1\" class=\"dataframe\">\n  <thead>\n    <tr style=\"text-align: right;\">\n      <th></th>\n      <th>SUBJECT_ID</th>\n      <th>HADM_ID</th>\n      <th>SEQ_NUM</th>\n      <th>ICD9_CODE</th>\n    </tr>\n  </thead>\n  <tbody>\n    <tr>\n      <th>0</th>\n      <td>308</td>\n      <td>166606</td>\n      <td>1</td>\n      <td>3129</td>\n    </tr>\n    <tr>\n      <th>1</th>\n      <td>308</td>\n      <td>166606</td>\n      <td>2</td>\n      <td>9604</td>\n    </tr>\n    <tr>\n      <th>2</th>\n      <td>308</td>\n      <td>166606</td>\n      <td>3</td>\n      <td>9672</td>\n    </tr>\n    <tr>\n      <th>3</th>\n      <td>308</td>\n      <td>166606</td>\n      <td>4</td>\n      <td>9390</td>\n    </tr>\n    <tr>\n      <th>4</th>\n      <td>308</td>\n      <td>166606</td>\n      <td>5</td>\n      <td>9915</td>\n    </tr>\n    <tr>\n      <th>...</th>\n      <td>...</td>\n      <td>...</td>\n      <td>...</td>\n      <td>...</td>\n    </tr>\n    <tr>\n      <th>2886</th>\n      <td>43323</td>\n      <td>107385</td>\n      <td>6</td>\n      <td>3897</td>\n    </tr>\n    <tr>\n      <th>2887</th>\n      <td>43323</td>\n      <td>107385</td>\n      <td>7</td>\n      <td>3897</td>\n    </tr>\n    <tr>\n      <th>2888</th>\n      <td>43323</td>\n      <td>107385</td>\n      <td>8</td>\n      <td>370</td>\n    </tr>\n    <tr>\n      <th>2889</th>\n      <td>41035</td>\n      <td>102460</td>\n      <td>1</td>\n      <td>3228</td>\n    </tr>\n    <tr>\n      <th>2890</th>\n      <td>41035</td>\n      <td>102460</td>\n      <td>2</td>\n      <td>3201</td>\n    </tr>\n  </tbody>\n</table>\n<p>17282 rows × 4 columns</p>\n</div>"
     },
     "metadata": {},
     "output_type": "display_data"
    }
   ],
   "source": [
    "peek('PROCEDURES_ICD.csv')\n",
    "procedures_cut = read_and_cut_multi_index('PROCEDURES_ICD.csv', stays_sampled[['SUBJECT_ID','HADM_ID']])\n",
    "write_csv_file(procedures_cut, 'PROCEDURES_ICD.csv')\n",
    "print (procedures_cut.shape)\n",
    "display(procedures_cut)"
   ],
   "metadata": {
    "collapsed": false,
    "pycharm": {
     "name": "#%%\n"
    }
   }
  },
  {
   "cell_type": "code",
   "execution_count": 29,
   "outputs": [
    {
     "data": {
      "text/plain": "Index(['ROW_ID', 'SUBJECT_ID', 'HADM_ID', 'ICUSTAY_ID', 'STARTDATE', 'ENDDATE',\n       'DRUG_TYPE', 'DRUG', 'DRUG_NAME_POE', 'DRUG_NAME_GENERIC',\n       'FORMULARY_DRUG_CD', 'GSN', 'NDC', 'PROD_STRENGTH', 'DOSE_VAL_RX',\n       'DOSE_UNIT_RX', 'FORM_VAL_DISP', 'FORM_UNIT_DISP', 'ROUTE'],\n      dtype='object')"
     },
     "metadata": {},
     "output_type": "display_data"
    },
    {
     "name": "stderr",
     "output_type": "stream",
     "text": [
      "f:\\75.python\\venv\\lib\\site-packages\\IPython\\core\\interactiveshell.py:3331: DtypeWarning: Columns (11) have mixed types. Specify dtype option on import or set low_memory=False.\n",
      "  exec(code_obj, self.user_global_ns, self.user_ns)\n"
     ]
    },
    {
     "name": "stdout",
     "output_type": "stream",
     "text": [
      "(175601, 18)\n"
     ]
    },
    {
     "data": {
      "text/plain": "      SUBJECT_ID  HADM_ID  ICUSTAY_ID            STARTDATE  \\\n0             36   182104    280987.0  2131-05-04 00:00:00   \n1             36   182104    280987.0  2131-05-04 00:00:00   \n2             36   182104    280987.0  2131-05-04 00:00:00   \n3             36   182104    280987.0  2131-05-04 00:00:00   \n4             36   182104    280987.0  2131-05-04 00:00:00   \n...          ...      ...         ...                  ...   \n2432       99995   137810    229633.0  2147-02-10 00:00:00   \n2433       99995   137810    229633.0  2147-02-10 00:00:00   \n2434       99995   137810    229633.0  2147-02-11 00:00:00   \n2435       99995   137810    229633.0  2147-02-11 00:00:00   \n2436       99995   137810    229633.0  2147-02-11 00:00:00   \n\n                  ENDDATE DRUG_TYPE               DRUG      DRUG_NAME_POE  \\\n0     2131-05-04 00:00:00      MAIN           Propofol           Propofol   \n1     2131-05-04 00:00:00      MAIN           Propofol           Propofol   \n2     2131-05-04 00:00:00      MAIN      Nitroglycerin                NaN   \n3     2131-05-04 00:00:00      BASE            Syringe                NaN   \n4     2131-05-04 00:00:00      BASE            Syringe                NaN   \n...                   ...       ...                ...                ...   \n2432  2147-02-11 00:00:00      MAIN         Furosemide         Furosemide   \n2433  2147-02-11 00:00:00      MAIN            Heparin            Heparin   \n2434  2147-02-11 00:00:00      MAIN         Lisinopril         Lisinopril   \n2435  2147-02-11 00:00:00      MAIN  Ciprofloxacin HCl  Ciprofloxacin HCl   \n2436  2147-02-11 00:00:00      MAIN  Ciprofloxacin HCl  Ciprofloxacin HCl   \n\n      DRUG_NAME_GENERIC FORMULARY_DRUG_CD     GSN           NDC  \\\n0              Propofol         PROP100IG  016796  3.100300e+08   \n1              Propofol         PROP500IG  016796  3.100300e+08   \n2                   NaN         NITR20SYR  015361  7.414840e+07   \n3                   NaN           SYR60ML     NaN  0.000000e+00   \n4                   NaN           SYR60ML     NaN  0.000000e+00   \n...                 ...               ...     ...           ...   \n2432         Furosemide            FURO40  008209  1.821162e+08   \n2433     Heparin Sodium            HEPA5I  006549  6.332303e+10   \n2434         Lisinopril            LISI10  000390  9.045809e+08   \n2435  Ciprofloxacin HCl           CIPR250  009509  1.725311e+08   \n2436  Ciprofloxacin HCl           CIPR250  009509  1.725311e+08   \n\n                  PROD_STRENGTH DOSE_VAL_RX DOSE_UNIT_RX FORM_VAL_DISP  \\\n0             1000mg/100mL Vial        1000           mg             1   \n1               500mg/50mL Vial         500           mg             1   \n2                 20MG/50ML SYR          20           mg             1   \n3                  60mL Syringe           1          SYR             1   \n4                  60mL Syringe           1          SYR             1   \n...                         ...         ...          ...           ...   \n2432                40mg Tablet          40           mg             1   \n2433  5000 Units / mL- 1mL Vial        5000         UNIT             1   \n2434                10mg Tablet          10           mg             1   \n2435                  250mg Tab         250           mg             1   \n2436                  250mg Tab         250           mg             1   \n\n     FORM_UNIT_DISP    ROUTE  \n0              VIAL  IV DRIP  \n1              VIAL  IV DRIP  \n2               SYR  IV DRIP  \n3               SYR  IV DRIP  \n4               SYR  IV DRIP  \n...             ...      ...  \n2432            TAB    PO/NG  \n2433             mL       SC  \n2434            TAB    PO/NG  \n2435            TAB    PO/NG  \n2436            TAB    PO/NG  \n\n[175601 rows x 18 columns]",
      "text/html": "<div>\n<style scoped>\n    .dataframe tbody tr th:only-of-type {\n        vertical-align: middle;\n    }\n\n    .dataframe tbody tr th {\n        vertical-align: top;\n    }\n\n    .dataframe thead th {\n        text-align: right;\n    }\n</style>\n<table border=\"1\" class=\"dataframe\">\n  <thead>\n    <tr style=\"text-align: right;\">\n      <th></th>\n      <th>SUBJECT_ID</th>\n      <th>HADM_ID</th>\n      <th>ICUSTAY_ID</th>\n      <th>STARTDATE</th>\n      <th>ENDDATE</th>\n      <th>DRUG_TYPE</th>\n      <th>DRUG</th>\n      <th>DRUG_NAME_POE</th>\n      <th>DRUG_NAME_GENERIC</th>\n      <th>FORMULARY_DRUG_CD</th>\n      <th>GSN</th>\n      <th>NDC</th>\n      <th>PROD_STRENGTH</th>\n      <th>DOSE_VAL_RX</th>\n      <th>DOSE_UNIT_RX</th>\n      <th>FORM_VAL_DISP</th>\n      <th>FORM_UNIT_DISP</th>\n      <th>ROUTE</th>\n    </tr>\n  </thead>\n  <tbody>\n    <tr>\n      <th>0</th>\n      <td>36</td>\n      <td>182104</td>\n      <td>280987.0</td>\n      <td>2131-05-04 00:00:00</td>\n      <td>2131-05-04 00:00:00</td>\n      <td>MAIN</td>\n      <td>Propofol</td>\n      <td>Propofol</td>\n      <td>Propofol</td>\n      <td>PROP100IG</td>\n      <td>016796</td>\n      <td>3.100300e+08</td>\n      <td>1000mg/100mL Vial</td>\n      <td>1000</td>\n      <td>mg</td>\n      <td>1</td>\n      <td>VIAL</td>\n      <td>IV DRIP</td>\n    </tr>\n    <tr>\n      <th>1</th>\n      <td>36</td>\n      <td>182104</td>\n      <td>280987.0</td>\n      <td>2131-05-04 00:00:00</td>\n      <td>2131-05-04 00:00:00</td>\n      <td>MAIN</td>\n      <td>Propofol</td>\n      <td>Propofol</td>\n      <td>Propofol</td>\n      <td>PROP500IG</td>\n      <td>016796</td>\n      <td>3.100300e+08</td>\n      <td>500mg/50mL Vial</td>\n      <td>500</td>\n      <td>mg</td>\n      <td>1</td>\n      <td>VIAL</td>\n      <td>IV DRIP</td>\n    </tr>\n    <tr>\n      <th>2</th>\n      <td>36</td>\n      <td>182104</td>\n      <td>280987.0</td>\n      <td>2131-05-04 00:00:00</td>\n      <td>2131-05-04 00:00:00</td>\n      <td>MAIN</td>\n      <td>Nitroglycerin</td>\n      <td>NaN</td>\n      <td>NaN</td>\n      <td>NITR20SYR</td>\n      <td>015361</td>\n      <td>7.414840e+07</td>\n      <td>20MG/50ML SYR</td>\n      <td>20</td>\n      <td>mg</td>\n      <td>1</td>\n      <td>SYR</td>\n      <td>IV DRIP</td>\n    </tr>\n    <tr>\n      <th>3</th>\n      <td>36</td>\n      <td>182104</td>\n      <td>280987.0</td>\n      <td>2131-05-04 00:00:00</td>\n      <td>2131-05-04 00:00:00</td>\n      <td>BASE</td>\n      <td>Syringe</td>\n      <td>NaN</td>\n      <td>NaN</td>\n      <td>SYR60ML</td>\n      <td>NaN</td>\n      <td>0.000000e+00</td>\n      <td>60mL Syringe</td>\n      <td>1</td>\n      <td>SYR</td>\n      <td>1</td>\n      <td>SYR</td>\n      <td>IV DRIP</td>\n    </tr>\n    <tr>\n      <th>4</th>\n      <td>36</td>\n      <td>182104</td>\n      <td>280987.0</td>\n      <td>2131-05-04 00:00:00</td>\n      <td>2131-05-04 00:00:00</td>\n      <td>BASE</td>\n      <td>Syringe</td>\n      <td>NaN</td>\n      <td>NaN</td>\n      <td>SYR60ML</td>\n      <td>NaN</td>\n      <td>0.000000e+00</td>\n      <td>60mL Syringe</td>\n      <td>1</td>\n      <td>SYR</td>\n      <td>1</td>\n      <td>SYR</td>\n      <td>IV DRIP</td>\n    </tr>\n    <tr>\n      <th>...</th>\n      <td>...</td>\n      <td>...</td>\n      <td>...</td>\n      <td>...</td>\n      <td>...</td>\n      <td>...</td>\n      <td>...</td>\n      <td>...</td>\n      <td>...</td>\n      <td>...</td>\n      <td>...</td>\n      <td>...</td>\n      <td>...</td>\n      <td>...</td>\n      <td>...</td>\n      <td>...</td>\n      <td>...</td>\n      <td>...</td>\n    </tr>\n    <tr>\n      <th>2432</th>\n      <td>99995</td>\n      <td>137810</td>\n      <td>229633.0</td>\n      <td>2147-02-10 00:00:00</td>\n      <td>2147-02-11 00:00:00</td>\n      <td>MAIN</td>\n      <td>Furosemide</td>\n      <td>Furosemide</td>\n      <td>Furosemide</td>\n      <td>FURO40</td>\n      <td>008209</td>\n      <td>1.821162e+08</td>\n      <td>40mg Tablet</td>\n      <td>40</td>\n      <td>mg</td>\n      <td>1</td>\n      <td>TAB</td>\n      <td>PO/NG</td>\n    </tr>\n    <tr>\n      <th>2433</th>\n      <td>99995</td>\n      <td>137810</td>\n      <td>229633.0</td>\n      <td>2147-02-10 00:00:00</td>\n      <td>2147-02-11 00:00:00</td>\n      <td>MAIN</td>\n      <td>Heparin</td>\n      <td>Heparin</td>\n      <td>Heparin Sodium</td>\n      <td>HEPA5I</td>\n      <td>006549</td>\n      <td>6.332303e+10</td>\n      <td>5000 Units / mL- 1mL Vial</td>\n      <td>5000</td>\n      <td>UNIT</td>\n      <td>1</td>\n      <td>mL</td>\n      <td>SC</td>\n    </tr>\n    <tr>\n      <th>2434</th>\n      <td>99995</td>\n      <td>137810</td>\n      <td>229633.0</td>\n      <td>2147-02-11 00:00:00</td>\n      <td>2147-02-11 00:00:00</td>\n      <td>MAIN</td>\n      <td>Lisinopril</td>\n      <td>Lisinopril</td>\n      <td>Lisinopril</td>\n      <td>LISI10</td>\n      <td>000390</td>\n      <td>9.045809e+08</td>\n      <td>10mg Tablet</td>\n      <td>10</td>\n      <td>mg</td>\n      <td>1</td>\n      <td>TAB</td>\n      <td>PO/NG</td>\n    </tr>\n    <tr>\n      <th>2435</th>\n      <td>99995</td>\n      <td>137810</td>\n      <td>229633.0</td>\n      <td>2147-02-11 00:00:00</td>\n      <td>2147-02-11 00:00:00</td>\n      <td>MAIN</td>\n      <td>Ciprofloxacin HCl</td>\n      <td>Ciprofloxacin HCl</td>\n      <td>Ciprofloxacin HCl</td>\n      <td>CIPR250</td>\n      <td>009509</td>\n      <td>1.725311e+08</td>\n      <td>250mg Tab</td>\n      <td>250</td>\n      <td>mg</td>\n      <td>1</td>\n      <td>TAB</td>\n      <td>PO/NG</td>\n    </tr>\n    <tr>\n      <th>2436</th>\n      <td>99995</td>\n      <td>137810</td>\n      <td>229633.0</td>\n      <td>2147-02-11 00:00:00</td>\n      <td>2147-02-11 00:00:00</td>\n      <td>MAIN</td>\n      <td>Ciprofloxacin HCl</td>\n      <td>Ciprofloxacin HCl</td>\n      <td>Ciprofloxacin HCl</td>\n      <td>CIPR250</td>\n      <td>009509</td>\n      <td>1.725311e+08</td>\n      <td>250mg Tab</td>\n      <td>250</td>\n      <td>mg</td>\n      <td>1</td>\n      <td>TAB</td>\n      <td>PO/NG</td>\n    </tr>\n  </tbody>\n</table>\n<p>175601 rows × 18 columns</p>\n</div>"
     },
     "metadata": {},
     "output_type": "display_data"
    }
   ],
   "source": [
    "peek('PRESCRIPTIONS.csv')\n",
    "prescriptions_cut = read_and_cut_multi_index('PRESCRIPTIONS.csv', stays_sampled[['SUBJECT_ID','HADM_ID','ICUSTAY_ID']])\n",
    "write_csv_file(prescriptions_cut, 'PRESCRIPTIONS.csv')\n",
    "print (prescriptions_cut.shape)\n",
    "display(prescriptions_cut)"
   ],
   "metadata": {
    "collapsed": false,
    "pycharm": {
     "name": "#%%\n"
    }
   }
  },
  {
   "cell_type": "code",
   "execution_count": 30,
   "outputs": [
    {
     "data": {
      "text/plain": "Index(['ROW_ID', 'SUBJECT_ID', 'HADM_ID', 'ICUSTAY_ID', 'ITEMID', 'CHARTTIME',\n       'STORETIME', 'CGID', 'VALUE', 'VALUENUM', 'VALUEUOM', 'WARNING',\n       'ERROR', 'RESULTSTATUS', 'STOPPED'],\n      dtype='object')"
     },
     "metadata": {},
     "output_type": "display_data"
    },
    {
     "name": "stderr",
     "output_type": "stream",
     "text": [
      "f:\\75.python\\venv\\lib\\site-packages\\IPython\\core\\interactiveshell.py:3331: DtypeWarning: Columns (13) have mixed types. Specify dtype option on import or set low_memory=False.\n",
      "  exec(code_obj, self.user_global_ns, self.user_ns)\n"
     ]
    },
    {
     "name": "stdout",
     "output_type": "stream",
     "text": [
      "(20078130, 14)\n"
     ]
    },
    {
     "data": {
      "text/plain": "   SUBJECT_ID  HADM_ID  ICUSTAY_ID  ITEMID            CHARTTIME  \\\n0         109   155726    254406.0  220180  2142-08-14 15:00:00   \n1         109   155726    254406.0  220181  2142-08-14 15:00:00   \n2         109   155726    254406.0  220210  2142-08-14 15:00:00   \n3         109   155726    254406.0  220277  2142-08-14 15:00:00   \n4         109   155726    254406.0  226499  2142-08-14 15:48:00   \n\n             STORETIME     CGID VALUE  VALUENUM  VALUEUOM  WARNING  ERROR  \\\n0  2142-08-14 15:02:00  17249.0    75      75.0      mmHg      0.0    0.0   \n1  2142-08-14 15:02:00  17249.0    91      91.0      mmHg      0.0    0.0   \n2  2142-08-14 15:01:00  17249.0    20      20.0  insp/min      0.0    0.0   \n3  2142-08-14 15:01:00  17249.0    95      95.0         %      0.0    0.0   \n4  2142-08-14 15:49:00  17249.0  1100    1100.0        mL      0.0    0.0   \n\n  RESULTSTATUS STOPPED  \n0          NaN     NaN  \n1          NaN     NaN  \n2          NaN     NaN  \n3          NaN     NaN  \n4          NaN     NaN  ",
      "text/html": "<div>\n<style scoped>\n    .dataframe tbody tr th:only-of-type {\n        vertical-align: middle;\n    }\n\n    .dataframe tbody tr th {\n        vertical-align: top;\n    }\n\n    .dataframe thead th {\n        text-align: right;\n    }\n</style>\n<table border=\"1\" class=\"dataframe\">\n  <thead>\n    <tr style=\"text-align: right;\">\n      <th></th>\n      <th>SUBJECT_ID</th>\n      <th>HADM_ID</th>\n      <th>ICUSTAY_ID</th>\n      <th>ITEMID</th>\n      <th>CHARTTIME</th>\n      <th>STORETIME</th>\n      <th>CGID</th>\n      <th>VALUE</th>\n      <th>VALUENUM</th>\n      <th>VALUEUOM</th>\n      <th>WARNING</th>\n      <th>ERROR</th>\n      <th>RESULTSTATUS</th>\n      <th>STOPPED</th>\n    </tr>\n  </thead>\n  <tbody>\n    <tr>\n      <th>0</th>\n      <td>109</td>\n      <td>155726</td>\n      <td>254406.0</td>\n      <td>220180</td>\n      <td>2142-08-14 15:00:00</td>\n      <td>2142-08-14 15:02:00</td>\n      <td>17249.0</td>\n      <td>75</td>\n      <td>75.0</td>\n      <td>mmHg</td>\n      <td>0.0</td>\n      <td>0.0</td>\n      <td>NaN</td>\n      <td>NaN</td>\n    </tr>\n    <tr>\n      <th>1</th>\n      <td>109</td>\n      <td>155726</td>\n      <td>254406.0</td>\n      <td>220181</td>\n      <td>2142-08-14 15:00:00</td>\n      <td>2142-08-14 15:02:00</td>\n      <td>17249.0</td>\n      <td>91</td>\n      <td>91.0</td>\n      <td>mmHg</td>\n      <td>0.0</td>\n      <td>0.0</td>\n      <td>NaN</td>\n      <td>NaN</td>\n    </tr>\n    <tr>\n      <th>2</th>\n      <td>109</td>\n      <td>155726</td>\n      <td>254406.0</td>\n      <td>220210</td>\n      <td>2142-08-14 15:00:00</td>\n      <td>2142-08-14 15:01:00</td>\n      <td>17249.0</td>\n      <td>20</td>\n      <td>20.0</td>\n      <td>insp/min</td>\n      <td>0.0</td>\n      <td>0.0</td>\n      <td>NaN</td>\n      <td>NaN</td>\n    </tr>\n    <tr>\n      <th>3</th>\n      <td>109</td>\n      <td>155726</td>\n      <td>254406.0</td>\n      <td>220277</td>\n      <td>2142-08-14 15:00:00</td>\n      <td>2142-08-14 15:01:00</td>\n      <td>17249.0</td>\n      <td>95</td>\n      <td>95.0</td>\n      <td>%</td>\n      <td>0.0</td>\n      <td>0.0</td>\n      <td>NaN</td>\n      <td>NaN</td>\n    </tr>\n    <tr>\n      <th>4</th>\n      <td>109</td>\n      <td>155726</td>\n      <td>254406.0</td>\n      <td>226499</td>\n      <td>2142-08-14 15:48:00</td>\n      <td>2142-08-14 15:49:00</td>\n      <td>17249.0</td>\n      <td>1100</td>\n      <td>1100.0</td>\n      <td>mL</td>\n      <td>0.0</td>\n      <td>0.0</td>\n      <td>NaN</td>\n      <td>NaN</td>\n    </tr>\n  </tbody>\n</table>\n</div>"
     },
     "metadata": {},
     "output_type": "display_data"
    }
   ],
   "source": [
    "peek('CHARTEVENTS.csv')\n",
    "chart_events_cut = read_and_cut_multi_index('CHARTEVENTS.csv', stays_sampled[['SUBJECT_ID','HADM_ID','ICUSTAY_ID']])\n",
    "write_csv_file(chart_events_cut, 'CHARTEVENTS.csv')\n",
    "print (chart_events_cut.shape)\n",
    "display(chart_events_cut.head())"
   ],
   "metadata": {
    "collapsed": false,
    "pycharm": {
     "name": "#%%\n"
    }
   }
  },
  {
   "cell_type": "code",
   "execution_count": 9,
   "outputs": [],
   "source": [],
   "metadata": {
    "collapsed": false,
    "pycharm": {
     "name": "#%%\n"
    }
   }
  }
 ],
 "metadata": {
  "kernelspec": {
   "display_name": "Python 3",
   "language": "python",
   "name": "python3"
  },
  "language_info": {
   "codemirror_mode": {
    "name": "ipython",
    "version": 2
   },
   "file_extension": ".py",
   "mimetype": "text/x-python",
   "name": "python",
   "nbconvert_exporter": "python",
   "pygments_lexer": "ipython2",
   "version": "2.7.6"
  }
 },
 "nbformat": 4,
 "nbformat_minor": 0
}