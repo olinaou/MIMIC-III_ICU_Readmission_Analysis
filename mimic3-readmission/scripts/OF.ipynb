{
 "cells": [
  {
   "cell_type": "code",
   "execution_count": 1,
   "metadata": {
    "ExecuteTime": {
     "end_time": "2020-04-19T22:26:34.476972Z",
     "start_time": "2020-04-19T22:26:34.021581Z"
    }
   },
   "outputs": [
    {
     "data": {
      "text/plain": "<IPython.core.display.HTML object>",
      "text/html": "<style>.container { width:100% !important; }</style>"
     },
     "metadata": {},
     "output_type": "display_data"
    },
    {
     "data": {
      "text/plain": "<IPython.core.display.HTML object>",
      "text/html": "<style>table.dataframe {font-size:60%;line-height:100%; padding:0px; margin:0px;}</style>"
     },
     "metadata": {},
     "output_type": "display_data"
    },
    {
     "data": {
      "text/plain": "<IPython.core.display.HTML object>",
      "text/html": "<style>table.dataframe td {padding:3px; margin:0px;}</style>"
     },
     "metadata": {},
     "output_type": "display_data"
    },
    {
     "data": {
      "text/plain": "<IPython.core.display.HTML object>",
      "text/html": "<style>table.dataframe tr {padding:3px; margin:0px;}</style>"
     },
     "metadata": {},
     "output_type": "display_data"
    },
    {
     "data": {
      "text/plain": "<IPython.core.display.HTML object>",
      "text/html": "<style>table.dataframe th {padding:3px; margin:0px;}</style>"
     },
     "metadata": {},
     "output_type": "display_data"
    }
   ],
   "source": [
    "from __future__ import print_function\n",
    "from matplotlib import pyplot\n",
    "pyplot.style.use('dark_background')\n",
    "from IPython.display import display, HTML\n",
    "display(HTML(\"<style>.container { width:100% !important; }</style>\"))\n",
    "display(HTML(\"<style>table.dataframe {font-size:60%;line-height:100%; padding:0px; margin:0px;}</style>\"))\n",
    "display(HTML(\"<style>table.dataframe td {padding:3px; margin:0px;}</style>\"))\n",
    "display(HTML(\"<style>table.dataframe tr {padding:3px; margin:0px;}</style>\"))\n",
    "display(HTML(\"<style>table.dataframe th {padding:3px; margin:0px;}</style>\"))\n",
    "import yaml\n",
    "#\n",
    "from mimic3benchmark.mimic3csv import *\n",
    "from mimic3benchmark.preprocessing import add_hcup_ccs_2015_groups, make_phenotype_label_matrix\n",
    "from mimic3benchmark.util import *\n",
    "from OF_util import write_csv_file"
   ]
  },
  {
   "cell_type": "code",
   "execution_count": null,
   "metadata": {
    "ExecuteTime": {
     "end_time": "2020-04-19T22:26:34.483305Z",
     "start_time": "2020-04-19T22:26:34.026Z"
    },
    "pycharm": {
     "name": "#%%\n"
    }
   },
   "outputs": [],
   "source": [
    "class Args(object):\n",
    "    mimic3_path = \"\"\n",
    "\n",
    "args = Args()\n",
    "args.mimic3_path = \"../../../mimic-iii-clinical-database-1.4\"\n",
    "\n",
    "patients = read_patients_table_with_expire_flag(args.mimic3_path)\n",
    "display (patients.head())"
   ]
  },
  {
   "cell_type": "code",
   "execution_count": null,
   "metadata": {
    "ExecuteTime": {
     "end_time": "2020-04-19T22:26:34.484534Z",
     "start_time": "2020-04-19T22:26:34.030Z"
    },
    "pycharm": {
     "name": "#%%\n"
    }
   },
   "outputs": [],
   "source": [
    "admits = read_admissions_table(args.mimic3_path)\n",
    "display (admits)"
   ]
  },
  {
   "cell_type": "code",
   "execution_count": null,
   "metadata": {
    "ExecuteTime": {
     "end_time": "2020-04-19T22:26:34.485533Z",
     "start_time": "2020-04-19T22:26:34.035Z"
    },
    "pycharm": {
     "name": "#%%\n"
    }
   },
   "outputs": [],
   "source": [
    "stays = read_icustays_table(args.mimic3_path)\n",
    "display(stays)"
   ]
  },
  {
   "cell_type": "code",
   "execution_count": null,
   "metadata": {
    "ExecuteTime": {
     "end_time": "2020-04-19T22:26:34.486815Z",
     "start_time": "2020-04-19T22:26:34.041Z"
    },
    "pycharm": {
     "name": "#%%\n"
    }
   },
   "outputs": [],
   "source": [
    "stays = merge_on_subject_admission(stays, admits)\n",
    "stays = merge_on_subject(stays, patients)\n",
    "display(stays)"
   ]
  },
  {
   "cell_type": "code",
   "execution_count": null,
   "metadata": {
    "ExecuteTime": {
     "end_time": "2020-04-19T22:26:34.487897Z",
     "start_time": "2020-04-19T22:26:34.052Z"
    },
    "pycharm": {
     "name": "#%%\n"
    }
   },
   "outputs": [],
   "source": [
    "stays = add_age_to_icustays(stays)\n",
    "stays = add_inunit_mortality_to_icustays(stays)\n",
    "stays = add_inhospital_mortality_to_icustays(stays)\n",
    "# includes age and death in hospital:\n",
    "display(stays)"
   ]
  },
  {
   "cell_type": "code",
   "execution_count": null,
   "metadata": {
    "ExecuteTime": {
     "end_time": "2020-04-19T22:26:34.489028Z",
     "start_time": "2020-04-19T22:26:34.059Z"
    },
    "pycharm": {
     "name": "#%%\n"
    }
   },
   "outputs": [],
   "source": [
    "# filter only age above 18 years old\n",
    "stays = filter_icustays_on_age(stays)\n",
    "display(stays)"
   ]
  },
  {
   "cell_type": "code",
   "execution_count": null,
   "metadata": {
    "ExecuteTime": {
     "end_time": "2020-04-19T22:26:34.489978Z",
     "start_time": "2020-04-19T22:26:34.061Z"
    },
    "pycharm": {
     "name": "#%%\n"
    }
   },
   "outputs": [],
   "source": [
    "diagnoses = read_icd_diagnoses_table(args.mimic3_path)\n",
    "# display(diagnoses)\n",
    "# filter diagnosis by SEQ_NUM == 1\n",
    "diagnoses = diagnoses.loc[(diagnoses.SEQ_NUM == 1)]\n",
    "# display(diagnoses)\n",
    "# merge with stays:\n",
    "stays = stays.merge(diagnoses[['SUBJECT_ID', 'HADM_ID', 'ICD9_CODE']], how='inner',\n",
    "                           left_on=['SUBJECT_ID', 'HADM_ID'], right_on=['SUBJECT_ID', 'HADM_ID'])\n",
    "print(stays.columns)"
   ]
  },
  {
   "cell_type": "code",
   "execution_count": null,
   "metadata": {
    "ExecuteTime": {
     "end_time": "2020-04-19T22:26:34.491319Z",
     "start_time": "2020-04-19T22:26:34.062Z"
    },
    "pycharm": {
     "name": "#%%\n"
    }
   },
   "outputs": [],
   "source": [
    "stays = stays.sort_values(['SUBJECT_ID','ADMITTIME','INTIME'])\n",
    "stays['Num_Prev_Hos_Adm'] = stays.groupby('SUBJECT_ID')['SUBJECT_ID'].rank(method='first').subtract(1).astype(int)"
   ]
  },
  {
   "cell_type": "code",
   "execution_count": null,
   "metadata": {
    "ExecuteTime": {
     "end_time": "2020-04-19T22:26:34.492750Z",
     "start_time": "2020-04-19T22:26:34.067Z"
    },
    "pycharm": {
     "name": "#%%\n"
    }
   },
   "outputs": [],
   "source": [
    "stays['Hos_LOS'] = (stays['DISCHTIME'] - stays['ADMITTIME']) / pd.to_timedelta(1, unit='D')\n",
    "stays = stays[stays['MORTALITY_INHOSPITAL']!=1]\n",
    "# stays3 = stays[0:1000]\n",
    "stays3 = stays\n",
    "stays3['days_diff'] = stays3.groupby('SUBJECT_ID').apply(lambda x: x.ADMITTIME-x.DISCHTIME.shift()).reset_index(level=0,drop=True)\n",
    "stays3['days_diff_positive'] = (stays3['days_diff']> pd.Timedelta(days=0)) & (stays3['days_diff']<= pd.Timedelta(days=30))\n",
    "stays3['days_diff_negative'] = stays3['days_diff']> pd.Timedelta(days=30)\n",
    "stays3['dod_out_hos_in30days'] = stays3['DOD']-stays3['DISCHTIME'] <= pd.Timedelta(days=30)\n",
    "stays3['dod_out_hos_after30days'] = stays3['DOD']-stays3['DISCHTIME'] > pd.Timedelta(days=30)\n",
    "stays3['expire_flag_is_false'] = stays3['EXPIRE_FLAG'] == False\n",
    "stays3['positive'] = stays3['dod_out_hos_in30days'] | stays3['days_diff_positive']\n",
    "stays3['negative'] = stays3['dod_out_hos_after30days'] | stays3['days_diff_negative'] | stays3['expire_flag_is_false']\n",
    "# stays3['days_diff'] = stays4['days_diff']\n",
    "stays4 = stays3[['SUBJECT_ID','HADM_ID','ICUSTAY_ID','ADMITTIME','DISCHTIME','days_diff','days_diff_positive',\n",
    "                 'days_diff_negative','DOD', 'dod_out_hos_in30days','dod_out_hos_after30days','positive','negative', 'expire_flag_is_false']]\n",
    "display(stays4)"
   ]
  },
  {
   "cell_type": "code",
   "execution_count": null,
   "metadata": {
    "ExecuteTime": {
     "end_time": "2020-04-19T22:26:34.494734Z",
     "start_time": "2020-04-19T22:26:34.068Z"
    },
    "pycharm": {
     "name": "#%%\n"
    }
   },
   "outputs": [],
   "source": [
    "stays_all = stays3[['SUBJECT_ID','HADM_ID','ICUSTAY_ID','INSURANCE','RELIGION', 'MARITAL_STATUS', 'ETHNICITY',\n",
    "                 'GENDER', 'DOB', 'DOD', 'AGE', 'MORTALITY_INHOSPITAL', 'DEATHTIME', 'DBSOURCE', 'INTIME', 'OUTTIME',\n",
    "                 'LOS', 'ADMITTIME', 'DISCHTIME', 'Hos_LOS', 'ICD9_CODE', 'Num_Prev_Hos_Adm',\n",
    "                 'ADMITTIME','DISCHTIME','days_diff','days_diff_positive',\n",
    "                 'days_diff_negative','DOD', 'dod_out_hos_in30days','dod_out_hos_after30days','positive','negative', 'expire_flag_is_false']]"
   ]
  },
  {
   "cell_type": "code",
   "execution_count": null,
   "metadata": {
    "ExecuteTime": {
     "end_time": "2020-04-19T22:26:34.496490Z",
     "start_time": "2020-04-19T22:26:34.070Z"
    },
    "pycharm": {
     "name": "#%%\n"
    }
   },
   "outputs": [],
   "source": [
    "stays_all_drop = stays_all.drop(stays_all[stays_all['positive']==stays_all['negative']].index)\n",
    "stays_all_drop = stays_all_drop[['SUBJECT_ID','HADM_ID','ICUSTAY_ID','LOS','Hos_LOS','Num_Prev_Hos_Adm','positive','negative']]\n",
    "display(stays_all_drop.head())\n",
    "print (stays_all_drop.shape)"
   ]
  },
  {
   "cell_type": "code",
   "execution_count": null,
   "metadata": {
    "ExecuteTime": {
     "end_time": "2020-04-19T22:26:34.497974Z",
     "start_time": "2020-04-19T22:26:34.071Z"
    },
    "pycharm": {
     "name": "#%%\n"
    }
   },
   "outputs": [],
   "source": [
    "write_csv_file(stays_all_drop,\"stay_all_drop_sampled.csv\")"
   ]
  },
  {
   "cell_type": "code",
   "execution_count": null,
   "metadata": {
    "ExecuteTime": {
     "end_time": "2020-04-19T22:26:34.499050Z",
     "start_time": "2020-04-19T22:26:34.072Z"
    },
    "pycharm": {
     "name": "#%%\n"
    }
   },
   "outputs": [],
   "source": [
    "stays_all_drop_pos = stays_all_drop[stays_all_drop['positive']==True]\n",
    "stays_all_drop_neg = stays_all_drop[stays_all_drop['negative']==True]"
   ]
  },
  {
   "cell_type": "code",
   "execution_count": null,
   "metadata": {
    "ExecuteTime": {
     "end_time": "2020-04-19T22:26:34.500241Z",
     "start_time": "2020-04-19T22:26:34.073Z"
    },
    "pycharm": {
     "name": "#%%\n"
    }
   },
   "outputs": [],
   "source": [
    "print (len(stays_all_drop_pos))\n",
    "num_rows_to_keep = len(stays_all_drop_pos)\n",
    "stays_all_drop_neg_sampled = stays_all_drop_neg.sample(num_rows_to_keep)"
   ]
  },
  {
   "cell_type": "code",
   "execution_count": null,
   "metadata": {
    "ExecuteTime": {
     "end_time": "2020-04-19T22:26:34.501408Z",
     "start_time": "2020-04-19T22:26:34.075Z"
    },
    "pycharm": {
     "name": "#%%\n"
    }
   },
   "outputs": [],
   "source": [
    "stays_all_drop = pd.concat([stays_all_drop_pos, stays_all_drop_neg_sampled])\n",
    "write_csv_file(stays_all_drop, csv_file=\"stays_all_drop_sampled.csv\", root=\"./\")"
   ]
  },
  {
   "cell_type": "code",
   "execution_count": null,
   "metadata": {
    "ExecuteTime": {
     "end_time": "2020-04-19T22:26:34.502651Z",
     "start_time": "2020-04-19T22:26:34.076Z"
    },
    "pycharm": {
     "name": "#%%\n"
    }
   },
   "outputs": [],
   "source": [
    "print (len(stays_all[stays_all['positive']==stays_all['negative']]))\n",
    "print (len(stays_all[(stays_all['positive']==stays_all['negative']) & (stays_all['positive']==True) ]))\n",
    "print (len(stays_all[(stays_all['positive']==stays_all['negative']) & (stays_all['positive']==False) ]))\n",
    "print (len(stays_all[ (stays_all['positive']==True) ]))\n",
    "print (len(stays_all[ (stays_all['positive']==False) ]))\n",
    "# stays_all.to_csv('stay_all_results_olina.csv')"
   ]
  },
  {
   "cell_type": "code",
   "execution_count": null,
   "metadata": {
    "ExecuteTime": {
     "end_time": "2020-04-19T22:26:34.503618Z",
     "start_time": "2020-04-19T22:26:34.077Z"
    },
    "pycharm": {
     "name": "#%%\n"
    }
   },
   "outputs": [],
   "source": [
    "# print (stays3[stays3['days_diff']< pd.Timedelta(days=0)].count())"
   ]
  },
  {
   "cell_type": "code",
   "execution_count": null,
   "metadata": {
    "ExecuteTime": {
     "end_time": "2020-04-19T22:26:34.504692Z",
     "start_time": "2020-04-19T22:26:34.079Z"
    },
    "pycharm": {
     "name": "#%%\n"
    }
   },
   "outputs": [],
   "source": [
    "# print (stays3['positive'].value_counts())\n",
    "# print (stays3['negative'].value_counts())\n",
    "# print (stays3[(stays3['positive']==True) | (stays3['negative']==True)].count())"
   ]
  },
  {
   "cell_type": "code",
   "execution_count": null,
   "metadata": {
    "pycharm": {
     "name": "#%%\n"
    }
   },
   "outputs": [],
   "source": []
  }
 ],
 "metadata": {
  "kernelspec": {
   "display_name": "Python 3",
   "language": "python",
   "name": "python3"
  },
  "language_info": {
   "codemirror_mode": {
    "name": "ipython",
    "version": 3
   },
   "file_extension": ".py",
   "mimetype": "text/x-python",
   "name": "python",
   "nbconvert_exporter": "python",
   "pygments_lexer": "ipython3",
   "version": "3.7.7"
  },
  "varInspector": {
   "cols": {
    "lenName": 16,
    "lenType": 16,
    "lenVar": 40
   },
   "kernels_config": {
    "python": {
     "delete_cmd_postfix": "",
     "delete_cmd_prefix": "del ",
     "library": "var_list.py",
     "varRefreshCmd": "print(var_dic_list())"
    },
    "r": {
     "delete_cmd_postfix": ") ",
     "delete_cmd_prefix": "rm(",
     "library": "var_list.r",
     "varRefreshCmd": "cat(var_dic_list()) "
    }
   },
   "types_to_exclude": [
    "module",
    "function",
    "builtin_function_or_method",
    "instance",
    "_Feature"
   ],
   "window_display": false
  }
 },
 "nbformat": 4,
 "nbformat_minor": 1
}